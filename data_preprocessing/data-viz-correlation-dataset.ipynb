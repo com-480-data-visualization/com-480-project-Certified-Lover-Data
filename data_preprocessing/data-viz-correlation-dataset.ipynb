{
 "cells": [
  {
   "cell_type": "code",
   "execution_count": 122,
   "metadata": {},
   "outputs": [],
   "source": [
    "import os\n",
    "\n",
    "os.environ['KAGGLE_USERNAME'] = 'yannspf'\n",
    "os.environ['KAGGLE_KEY'] = '47e6ebd956faccc933d2bba9d554bbbe'\n",
    "try:\n",
    "    import kaggle\n",
    "except ImportError:\n",
    "    os.system('pip install kaggle')"
   ]
  },
  {
   "cell_type": "code",
   "execution_count": 123,
   "metadata": {},
   "outputs": [
    {
     "name": "stdout",
     "output_type": "stream",
     "text": [
      "Path to Billboard dataset: /Users/yann/.cache/kagglehub/datasets/thedevastator/billboard-hot-100-audio-features/versions/1\n",
      "Path to Spotify dataset: /Users/yann/.cache/kagglehub/datasets/asaniczka/top-spotify-songs-in-73-countries-daily-updated/versions/579\n"
     ]
    }
   ],
   "source": [
    "import kagglehub\n",
    "\n",
    "# Billboard Hot 100 dataset\n",
    "path1 = kagglehub.dataset_download(\"thedevastator/billboard-hot-100-audio-features\")\n",
    "print(\"Path to Billboard dataset:\", path1)\n",
    "\n",
    "# Spotify Top Songs dataset\n",
    "path2 = kagglehub.dataset_download(\"asaniczka/top-spotify-songs-in-73-countries-daily-updated\")\n",
    "print(\"Path to Spotify dataset:\", path2)"
   ]
  },
  {
   "cell_type": "code",
   "execution_count": 124,
   "metadata": {},
   "outputs": [
    {
     "name": "stdout",
     "output_type": "stream",
     "text": [
      " First 5 rows of 'Hot 100 Audio Features.csv':\n",
      "0                                                   []\n",
      "1                                          ['novelty']\n",
      "2    ['adult standards', 'brill building pop', 'eas...\n",
      "3     ['rock-and-roll', 'space age pop', 'surf music']\n",
      "4                ['dance pop', 'pop', 'post-teen pop']\n",
      "Name: spotify_genre, dtype: object\n"
     ]
    }
   ],
   "source": [
    "import pandas as pd\n",
    "\n",
    "# Load and preview Billboard datasets\n",
    "audio_features_df = pd.read_csv(os.path.join(path1, \"Hot 100 Audio Features.csv\"))\n",
    "hot_stuff_df = pd.read_csv(os.path.join(path1, \"Hot Stuff.csv\"))\n",
    "\n",
    "# Load and preview Spotify dataset\n",
    "spotify_df = pd.read_csv(os.path.join(path2, \"universal_top_spotify_songs.csv\"))\n",
    "\n",
    "# Print first 5 rows of each dataset\n",
    "print(\" First 5 rows of 'Hot 100 Audio Features.csv':\")\n",
    "print(audio_features_df['spotify_genre'].head())\n"
   ]
  },
  {
   "cell_type": "code",
   "execution_count": 125,
   "metadata": {},
   "outputs": [
    {
     "name": "stdout",
     "output_type": "stream",
     "text": [
      "🎵 Total unique genres: 1145\n",
      "['21st century classical', 'a cappella', 'acid house', 'acid jazz', 'acoustic blues', 'acoustic pop', 'acoustic punk', 'adult standards', 'afro house', 'afrobeat', 'afropop', 'alabama indie', 'alabama metal', 'alabama rap', 'alaska indie', 'alberta country', 'album rock', 'albuquerque indie', 'alt z', 'alt-idol', 'alternative americana', 'alternative country', 'alternative dance', 'alternative emo', 'alternative hip hop', 'alternative metal', 'alternative pop', 'alternative pop rock', 'alternative r&b', 'alternative rock', 'alternative roots rock', 'ambient folk', 'ambient psychill', 'american folk revival', 'american post-rock', 'anarcho-punk', 'anime', 'ann arbor indie', 'anthem emo', 'anthem worship', 'anti-folk', 'antiviral pop', 'appalachian folk', 'argentine rock', 'arkansas country', 'arkansas hip hop', 'art pop', 'art rock', 'asmr', 'athens indie', 'atl hip hop', 'atl trap', 'audiophile vocal', 'aussietronica', 'austindie', 'australian alternative rock', \"australian children's music\", 'australian country', 'australian dance', 'australian electropop', 'australian hip hop', 'australian house', 'australian indie', 'australian indigenous', 'australian pop', 'australian rock', 'australian singer-songwriter', 'australian talent show', 'austropop', 'avant-garde jazz', 'azonto', 'bachata', 'background music', 'bahamian pop', 'bakersfield sound', 'balkan brass', 'ballroom', 'baltimore indie', 'banda', 'banjo', 'barbadian pop', 'barbershop', 'baroque pop', 'bass house', 'bass trap', 'bass trip', 'basshall', 'bassline', 'baton rouge rap', 'battle rap', 'bboy', 'bc underground hip hop', 'beach music', 'beatlesque', 'bebop', 'bedroom pop', 'bedroom soul', 'belgian dance', 'belgian experimental', 'belgian metal', 'belgian pop', 'belgian rock', 'bhangra', 'big band', 'big beat', 'big room', 'birmingham hip hop', 'birmingham metal', 'bluegrass', 'bluegrass gospel', 'blues', 'blues rock', 'bmore', 'bolero', 'boogaloo', 'boogie-woogie', 'boom bap', 'bossa nova', 'bossa nova jazz', 'boston hip hop', 'boston rock', 'bounce', 'bow pop', 'boy band', 'brass band', 'brazilian death metal', 'brazilian jazz', 'brazilian metal', 'brazilian psychedelic', 'brazilian thrash metal', 'breakbeat', 'brill building pop', 'brit funk', 'british blues', 'british choir', 'british comedy', 'british country', 'british folk', 'british indie rock', 'british invasion', 'british jazz', 'british soul', 'britpop', 'broadway', 'broken beat', 'bronx hip hop', 'brooklyn drill', 'brooklyn indie', 'brostep', 'bubble trance', 'bubblegum dance', 'bubblegum pop', 'buffalo ny metal', 'c-pop', 'c86', 'cabaret', 'cali rap', 'calming instrumental', 'canadian blues', 'canadian ccm', 'canadian celtic', 'canadian contemporary country', 'canadian contemporary r&b', 'canadian country', 'canadian electronic', 'canadian electropop', 'canadian folk', 'canadian hip hop', 'canadian indie', 'canadian indigenous', 'canadian latin', 'canadian metal', 'canadian pop', 'canadian pop punk', 'canadian post-rock', 'canadian psychedelic', 'canadian punk', 'canadian rock', 'canadian singer-songwriter', 'canadian soundtrack', 'canadian trap', 'cancion melodica', 'candy pop', 'cantautor', 'canterbury scene', 'cantopop', 'cartoon', 'catstep', 'ccm', 'cedm', 'cello', 'celtic', 'celtic rock', 'chamber orchestra', 'chamber pop', 'chamber psych', 'champeta', 'channel pop', 'chanson', 'charlottesville indie', 'chicago blues', 'chicago drill', 'chicago hardcore', 'chicago house', 'chicago indie', 'chicago punk', 'chicago rap', 'chicago soul', 'chicano punk', 'chicano rap', \"children's music\", 'chillhop', 'chillstep', 'chillwave', 'chinese hip hop', 'chinese idol pop', 'chinese indie', 'choral', 'christian alternative rock', 'christian hip hop', 'christian indie', 'christian metal', 'christian music', 'christian pop', 'christian punk', 'christian relaxative', 'christian rock', 'christian trap', 'christmas instrumental', 'chutney', 'classic australian country', 'classic belgian pop', 'classic canadian rock', 'classic country pop', 'classic danish pop', 'classic eurovision', 'classic garage rock', 'classic girl group', 'classic italian pop', 'classic j-rock', 'classic norwegian pop', 'classic nz pop', 'classic opm', 'classic praise', 'classic psychedelic rock', 'classic rock', 'classic russian rock', 'classic schlager', 'classic soul', 'classic soundtrack', 'classic swedish pop', 'classic uk pop', 'classical', 'classical cello', 'classical organ', 'classical performance', 'classical tenor', 'clean comedy', 'colombian pop', 'comedy', 'comedy rock', 'comic', 'comic metal', 'complextro', 'compositional ambient', 'conscious hip hop', 'contemporary country', 'contemporary folk', 'contemporary gospel', 'contemporary jazz', 'contemporary post-bop', 'contemporary vocal jazz', 'cool jazz', 'corrido', 'cosmic american', 'country', 'country blues', 'country boogie', 'country dawn', 'country gospel', 'country pop', 'country rap', 'country road', 'country rock', 'cowboy western', 'cowpunk', 'croatian pop', 'crossover thrash', 'crunk', 'cuban rumba', 'cumbia', 'cyberpunk', 'dance pop', 'dance rock', 'dance-punk', 'dancehall', 'danish electronic', 'danish pop', 'dansktop', 'dark post-punk', 'dark techno', 'dark trap', 'dark wave', 'dayton indie', 'deathcore', 'deep acoustic pop', 'deep adult standards', 'deep big room', 'deep ccm', 'deep classic garage rock', 'deep contemporary country', 'deep disco', 'deep dubstep', 'deep east coast hip hop', 'deep euro house', 'deep eurodance', 'deep free jazz', 'deep freestyle', 'deep funk', 'deep funk house', 'deep groove house', 'deep house', 'deep latin christian', 'deep melodic hard rock', 'deep motown', 'deep new americana', 'deep new wave', 'deep norteno', 'deep northern soul', 'deep pop r&b', 'deep progressive trance', 'deep punk rock', 'deep ragga', 'deep regional mexican', 'deep smooth jazz', 'deep soft rock', 'deep southern soul', 'deep southern trap', 'deep talent show', 'deep underground hip hop', 'deep vocal house', 'delta blues', 'derby indie', 'desi hip hop', 'desi pop', 'destroy techno', 'detroit hip hop', 'detroit house', 'detroit trap', 'dfw rap', 'didgeridoo', 'dirty south rap', 'dirty texas rap', 'disco', 'disco house', 'disney', 'diva house', 'dixieland', 'diy emo', 'dmv rap', 'doo-wop', 'downtempo', 'drama', 'dream pop', 'dreamo', 'drill', 'drum and bass', 'dub', 'dublin indie', 'dubstep', 'duranguense', 'dusseldorf electronic', 'dutch edm', 'dutch hip hop', 'dutch house', 'dutch indie', 'dutch pop', 'dutch prog', 'dutch r&b', 'dutch rock', 'dutch urban', 'e6fi', 'early us punk', 'east coast hip hop', 'east coast reggae', 'easy listening', 'easycore', 'ebm', 'ectofolk', 'ecuadorian pop', 'edm', 'el paso indie', 'electra', 'electric blues', 'electro', 'electro house', 'electro swing', 'electroclash', 'electronic rock', 'electronic trap', 'electronica', 'electronicore', 'electropop', 'electropowerpop', 'emo', 'emo rap', 'english indie rock', 'enka', 'environmental', 'escape room', 'estonian hip hop', 'ethereal wave', 'etherpop', 'ethiopian pop', 'euro hi-nrg', 'eurodance', 'europop', 'euroska', 'exotica', 'experimental', 'experimental pop', 'experimental rock', 'fake', 'filmi', 'filter house', 'finnish edm', 'finnish punk', 'florida rap', 'focus', 'focus beats', 'folk', 'folk metal', 'folk punk', 'folk rock', 'folk-pop', 'folklore argentino', 'freak folk', 'freakbeat', 'free jazz', 'freestyle', 'french hip hop', 'french indie pop', 'french indietronica', 'french jazz', 'french movie tunes', 'french pop', 'french rock', 'french shoegaze', 'french soundtrack', 'french techno', 'french worship', 'funana', 'funeral doom', 'funk', 'funk metal', 'funk rock', 'future funk', 'future house', 'futurepop', 'g funk', 'gabba', 'gangster rap', 'garage pop', 'garage psych', 'garage punk', 'garage rock', 'gauze pop', 'gbvfi', 'german dance', 'german hard rock', 'german jazz', 'german metal', 'german pop', 'german rock', 'german shoegaze', 'german ska', 'german soundtrack', 'german techno', 'ghanaian hip hop', 'girl group', 'glam metal', 'glam rock', 'glee club', 'glitch', 'glitch hop', 'go-go', 'gospel', 'gospel r&b', 'gospel singers', 'gothenburg indie', 'gothic doom', 'gothic rock', 'grime', 'groove metal', 'grunge', 'grunge pop', 'grupera', 'gymcore', 'gypsy jazz', 'haitian gospel', 'halloween', 'hamburg electronic', 'hammond organ', 'hands up', 'happy hardcore', 'hard alternative', 'hard bop', 'hard rock', 'hardcore hip hop', 'hardcore punk', 'hardcore techno', 'harlem hip hop', 'harmonica blues', 'hauntology', 'hawaiian hip hop', 'healing', 'heartland rock', 'heavy alternative', 'hi-nrg', 'highlife', 'hip hop', 'hip house', 'hip pop', 'hollywood', 'honky tonk', 'honky-tonk piano', 'hopebeat', 'house', 'houston rap', 'hyperpop', 'hyphy', 'icelandic experimental', 'icelandic indie', 'icelandic pop', 'icelandic rock', 'idol', 'idol rock', 'indian folk', 'indie anthem-folk', 'indie cafe pop', 'indie electropop', 'indie folk', 'indie garage rock', 'indie jazz', 'indie pop', 'indie pop rap', 'indie poptimism', 'indie punk', 'indie r&b', 'indie rock', 'indie singer-songwriter', 'indie soul', 'indie surf', 'indiecoustica', 'indietronica', 'indorock', 'industrial', 'industrial metal', 'industrial rock', 'industrial techno', 'indy indie', 'instrumental funk', 'instrumental rock', 'instrumental soul', 'instrumental surf', 'irish folk', 'irish pub song', 'irish rock', 'irish singer-songwriter', 'israeli pop', 'italian disco', 'italian pop', 'italo dance', 'italo house', 'j-ambient', 'j-pixie', 'j-pop', 'j-poprock', 'jam band', 'jamgrass', 'jangle pop', 'japanese city pop', 'japanese singer-songwriter', 'jazz', 'jazz blues', 'jazz boom bap', 'jazz brass', 'jazz clarinet', 'jazz cubano', 'jazz drums', 'jazz funk', 'jazz fusion', 'jazz guitar', 'jazz orchestra', 'jazz organ', 'jazz piano', 'jazz pop', 'jazz quartet', 'jazz rap', 'jazz saxophone', 'jazz trio', 'jazz trombone', 'jazz trumpet', 'jazz vibraphone', 'jazz violin', 'jump blues', 'k-hop', 'k-pop', 'k-pop boy group', 'k-pop girl group', 'k-rap', 'kent indie', 'kentucky hip hop', 'kids dance party', 'kiwi rock', 'korean r&b', 'krautrock', 'kwaito', 'kwaito house', 'la indie', 'la pop', 'laboratorio', 'lancaster pa indie', 'latin', 'latin afrobeat', 'latin arena pop', 'latin christian', 'latin classical', 'latin hip hop', 'latin jazz', 'latin pop', 'latin rock', 'latin soundtrack', 'latin viral pop', 'lds', 'lds youth', 'leeds indie', 'levenslied', 'lgbtq+ hip hop', 'library music', 'light music', 'lilith', 'liquid funk', 'lo star', 'lo-fi', 'lo-fi beats', 'lo-fi brasileiro', 'lo-fi jazzhop', 'louisiana blues', 'lounge', 'lovers rock', 'madchester', 'maine indie', 'makossa', 'mallet', 'mambo', 'manchester hip hop', 'mande pop', 'mandopop', 'manitoba indie', 'mariachi', 'mariachi cristiano', 'massage', 'mbalax', 'medieval folk', 'medieval rock', 'melancholia', 'melbourne bounce international', 'mellow gold', 'melodic hard rock', 'melodic hardcore', 'melodic metalcore', 'melodic rap', 'melodic thrash', 'meme rap', 'memphis blues', 'memphis hip hop', 'memphis soul', 'merseybeat', 'metal', 'metalcore', 'metallic hardcore', 'metropopolis', 'mexican hip hop', 'mexican pop', 'mexican rock', 'miami bass', 'miami hip hop', 'michigan indie', 'middle earth', 'midwest americana', 'midwest emo', 'milwaukee hip hop', 'minimal dub', 'minneapolis sound', 'minnesota hip hop', 'mod revival', 'modern alternative rock', 'modern blues', 'modern blues rock', 'modern bollywood', 'modern country rock', 'modern downshift', 'modern folk rock', 'modern funk', 'modern hard rock', 'modern reggae', 'modern rock', 'modern salsa', 'modern ska punk', 'modern southern rock', 'modern uplift', 'mollywood', 'moog', 'moombahton', 'motown', 'movie tunes', 'munich indie', 'music hall', 'musica per bambini', 'musica potosina', 'naija worship', 'nashville sound', 'native american', 'native american spiritual', 'nc hip hop', 'nederpop', 'neo classical metal', 'neo mellow', 'neo r&b', 'neo soul', 'neo-classical', 'neo-progressive', 'neo-psychedelic', 'neo-singer-songwriter', 'neo-synthpop', 'neo-traditional bluegrass', 'neo-traditional country', 'neoclassical', 'neon pop punk', 'nerdcore', 'neue deutsche harte', 'neue deutsche welle', 'neurofunk', 'new age', 'new age piano', 'new americana', 'new beat', 'new england americana', 'new french touch', 'new jack smooth', 'new jack swing', 'new jersey indie', 'new jersey rap', 'new mexico music', 'new orleans blues', 'new orleans funk', 'new orleans jazz', 'new orleans rap', 'new rave', 'new romantic', 'new wave', 'new wave of thrash metal', 'new wave pop', 'new weird america', 'nightcore', 'ninja', 'nl folk', 'no wave', 'noise pop', 'noise rock', 'nordic contemporary classical', 'normal indie', 'norteno', 'norteno-sax', 'north carolina hip hop', 'northern soul', 'norwegian hip hop', 'norwegian pop', 'novelty', 'nu gaze', 'nu jazz', 'nu metal', 'nu-metalcore', 'nueva cancion', 'nursery', 'nwobhm', 'ny roots', 'nyc pop', 'nyc rap', 'nz electronic', 'nz pop', 'ohio hip hop', 'ohio indie', 'oi', 'okc indie', 'oklahoma country', 'old school dancehall', 'old school hip hop', 'old school nederhop', 'old school thrash', 'old school uk hip hop', 'old-time', 'opera', 'operatic pop', 'opm', 'orchestra', 'orchestral performance', 'orgcore', 'oslo indie', 'otacore', 'ottawa rap', 'outlaw country', 'outsider', 'oxford indie', 'p funk', 'palm desert scene', 'panamanian pop', 'parody', 'permanent wave', 'philly indie', 'philly rap', 'philly soul', 'piano blues', 'piano cover', 'piano rock', 'pinoy hip hop', 'pinoy indie', 'pinoy praise', 'pinoy rock', 'pittsburgh rap', 'pittsburgh rock', 'pixie', 'plugg', 'plunder', 'polka', 'polynesian pop', 'pop', 'pop dance', 'pop edm', 'pop emo', 'pop punk', 'pop r&b', 'pop rap', 'pop reggaeton', 'pop rock', 'pop romantico', 'pop soul', 'popping', 'portland hip hop', 'portland indie', 'post-disco', 'post-disco soul', 'post-grunge', 'post-hardcore', 'post-metal', 'post-post-hardcore', 'post-punk', 'post-rock', 'post-screamo', 'post-teen pop', 'power metal', 'power pop', 'power-pop punk', 'praise', 'prog quebec', 'progressive bluegrass', 'progressive electro house', 'progressive house', 'progressive jazz fusion', 'progressive metal', 'progressive post-hardcore', 'progressive psytrance', 'progressive rock', 'progressive trance', 'progressive uplifting trance', 'proto-techno', 'protopunk', 'psychedelic blues-rock', 'psychedelic folk', 'psychedelic folk rock', 'psychedelic rock', 'psychill', 'psychobilly', 'pub rock', 'puerto rican pop', 'punjabi pop', 'punk', 'punk blues', 'quebec indie', 'queens hip hop', 'queer country', 'quiet storm', 'r&b', 'ranchera', 'rap', 'rap conscient', 'rap kreyol', 'rap latina', 'rap metal', 'rap rock', 'rare groove', 'rawstyle', 'rebel blues', 'red dirt', 'redneck', 'reggae', 'reggae fusion', 'reggae rock', 'reggaeton', 'reggaeton colombiano', 'reggaeton flow', 'regional mexican', 'regional mexican pop', 'retro electro', 'retro soul', 'rhythm and blues', 'rhythm and boogie', 'riddim', 'rif', 'rock', 'rock en espanol', 'rock nacional', 'rock steady', 'rock-and-roll', 'rockabilly', 'romanian pop', 'romanian rock', 'romantico', 'roots americana', 'roots reggae', 'roots rock', 'sacramento indie', 'salsa', 'salsa international', 'samba', 'san diego rap', 'san marcos tx indie', 'scandinavian r&b', 'scandipop', 'schlager', 'scorecore', 'scottish indie', 'scottish new wave', 'scottish rock', 'scottish singer-songwriter', 'screamo', 'seattle indie', 'second line', 'sertanejo', 'sertanejo pop', 'sertanejo universitario', 'sevdah', 'shamanic', 'sheffield indie', 'shibuya-kei', 'shimmer pop', 'shiver pop', 'shoegaze', 'show tunes', 'singaporean pop', 'singer-songwriter', 'ska', 'ska mexicano', 'ska punk', 'ska revival', 'skate punk', 'skiffle', 'skramz', 'slap house', 'sleaze rock', 'sleep', 'slow core', 'slow game', 'small room', 'smooth jazz', 'smooth saxophone', 'soca', 'socal pop punk', 'social media pop', 'soda pop', 'soft rock', 'soul', 'soul blues', 'soul jazz', 'soundtrack', 'south african choral', 'south african gospel', 'south african jazz', 'south african pop', 'south african rock', 'southern hip hop', 'southern rock', 'southern soul', 'southern soul blues', 'space age pop', 'space rock', 'spacewave', 'spanish invasion', 'spanish new wave', 'spanish pop', 'speed metal', 'steampunk', 'steel guitar', 'stomp and holler', 'stomp pop', 'stoner metal', 'stoner rock', 'street band', 'stride', 'strut', 'sufi', 'sunshine pop', 'surf music', 'swamp blues', 'swamp pop', 'swedish alternative rock', 'swedish country', 'swedish electropop', 'swedish garage rock', 'swedish hard rock', 'swedish indie pop', 'swedish indie rock', 'swedish metalcore', 'swedish pop', 'swedish rockabilly', 'swedish singer-songwriter', 'swedish soul', 'swedish synthpop', 'swing', 'swiss rock', 'sydney indie', 'symphonic rock', 'synth punk', 'synthpop', 'taiwan indie', 'taiwan pop', 'taiwan singer-songwriter', 'talent show', 'teen pop', 'tennessee hip hop', 'texas blues', 'texas country', 'texas pop punk', 'texas punk', 'thai pop', 'theme', 'thrash metal', 'torch song', 'toronto rap', 'traditional blues', 'traditional country', 'traditional folk', 'traditional funk', 'traditional rockabilly', 'traditional scottish folk', 'traditional ska', 'traditional soul', 'trance', 'trancecore', 'transpop', 'trap', 'trap boricua', 'trap latino', 'trap queen', 'trap soul', 'traprun', 'tribal house', 'trip hop', 'tropical', 'tropical house', 'trova', 'truck-driving country', 'turbo folk', 'turntablism', 'twee pop', 'uk alternative hip hop', 'uk alternative pop', 'uk americana', 'uk contemporary jazz', 'uk contemporary r&b', 'uk dance', 'uk dnb', 'uk doom metal', 'uk funky', 'uk garage', 'uk hip hop', 'uk metalcore', 'uk pop', 'uk pop punk', 'uk post-punk', 'uk reggae', 'unblack metal', 'underground hip hop', 'underground power pop', 'underground rap', 'uplifting trance', 'uptempo hardcore', 'urban contemporary', 'utah indie', 'vallenato', 'vancouver punk', 'vapor pop', 'vapor soul', 'vapor trap', 'vapor twitch', 'vintage dutch pop', 'vintage french electronic', 'vintage gospel', 'vintage hollywood', 'vintage italian soundtrack', 'vintage radio show', 'vintage schlager', 'vintage swoon', 'viral pop', 'viral rap', 'viral trap', 'virgin islands reggae', 'vocal harmony group', 'vocal house', 'vocal jazz', 'vocal trance', 'vogue', 'volksmusik', 'washington indie', 'welsh metal', 'welsh rock', 'west coast rap', 'west coast reggae', 'west coast trap', 'western swing', 'wind ensemble', 'wind quintet', 'world', 'world worship', 'worship', 'wrestling', 'wu fam', 'xhosa', 'yacht rock', 'ye ye', 'yodeling', 'yugoslav rock', 'zolo', 'zydeco']\n"
     ]
    }
   ],
   "source": [
    "import ast\n",
    "\n",
    "# Drop NaN values to avoid errors\n",
    "genre_series = audio_features_df['spotify_genre'].dropna()\n",
    "\n",
    "# Parse genre strings to lists or empty list if NaN\n",
    "audio_features_df['parsed_genres'] = audio_features_df['spotify_genre'].apply(\n",
    "    lambda x: ast.literal_eval(x) if isinstance(x, str) else []\n",
    ")\n",
    "\n",
    "# Drop rows where the parsed list is empty\n",
    "audio_features_df = audio_features_df[audio_features_df['parsed_genres'].apply(lambda x: isinstance(x, list) and len(x) > 0)]\n",
    "\n",
    "# (Optional) Reset index\n",
    "audio_features_df.reset_index(drop=True, inplace=True)\n",
    "\n",
    "# Convert stringified lists to real Python lists using ast.literal_eval\n",
    "parsed_genres = genre_series.apply(lambda x: ast.literal_eval(x) if isinstance(x, str) else [])\n",
    "\n",
    "# Flatten all lists into one\n",
    "all_genres = [genre for sublist in parsed_genres for genre in sublist]\n",
    "\n",
    "# Get unique genres\n",
    "unique_genres = sorted(set(all_genres))\n",
    "\n",
    "# Display results\n",
    "print(f\"🎵 Total unique genres: {len(unique_genres)}\")\n",
    "print(unique_genres)\n"
   ]
  },
  {
   "cell_type": "code",
   "execution_count": 126,
   "metadata": {},
   "outputs": [
    {
     "name": "stdout",
     "output_type": "stream",
     "text": [
      "🎼 Broad genre distribution:\n",
      "broad_genre\n",
      "[Pop]                                                           807\n",
      "[Pop, Pop]                                                      737\n",
      "[Pop, Pop, Pop]                                                 557\n",
      "[Rock]                                                          404\n",
      "[Country, Country, Country, Rock]                               399\n",
      "                                                               ... \n",
      "[Rock, Pop, Rock, Pop, Pop, Rock]                                 1\n",
      "[Pop, Electronic, Electronic, Pop, Electronic, Latin]             1\n",
      "[Jazz, Jazz, Funk, Jazz, Jazz, Jazz, Jazz, Jazz, Soul, Jazz]      1\n",
      "[Folk, Rock, Rock, Folk]                                          1\n",
      "[Rock, Pop, Pop, Rock, Pop, Rock]                                 1\n",
      "Name: count, Length: 1541, dtype: int64\n"
     ]
    }
   ],
   "source": [
    "\n",
    "\n",
    "genre_map = {\n",
    "    'novelty': 'Pop',\n",
    "    'idol': 'Pop',\n",
    "    'boy band': 'Pop',\n",
    "    'broadway': 'Pop',\n",
    "    'classic girl group': 'Pop',\n",
    "    'calming instrumental': 'Easy Listening',\n",
    "    'neo mellow': 'Pop',\n",
    "    'urban contemporary': 'R&B',\n",
    "\n",
    "    'motown': 'R&B',\n",
    "    'deep motown': 'R&B',\n",
    "    'rare groove': 'R&B',\n",
    "    'new jack swing': 'R&B',\n",
    "\n",
    "    'comic': 'Comedy',\n",
    "    'comedy': 'Comedy',\n",
    "    'parody': 'Comedy',\n",
    "\n",
    "    'hollywood': 'Soundtrack',\n",
    "    'movie tunes': 'Soundtrack',\n",
    "    'show tunes': 'Soundtrack',\n",
    "    'christmas instrumental': 'Holiday',\n",
    "\n",
    "    'nashville sound': 'Country',\n",
    "    'norteno': 'Regional Mexican',\n",
    "    'beach music': 'Soul',\n",
    "\n",
    "    'latin': 'Latin',\n",
    "    'tropical': 'Latin',\n",
    "    'brooklyn drill': 'Hip Hop',\n",
    "\n",
    "    'merseybeat': 'Rock',\n",
    "    'british invasion': 'Rock',\n",
    "    'adult standards': 'Easy Listening',\n",
    "    'easy listening': 'Easy Listening',\n",
    "    'deep adult standards': 'Easy Listening',\n",
    "    'mellow gold': 'Easy Listening',\n",
    "    'lounge': 'Easy Listening',\n",
    "    \n",
    "    'freestyle': 'Dance',\n",
    "    'disco': 'Dance',\n",
    "    'hi-nrg': 'Dance',\n",
    "    'miami bass': 'Dance',\n",
    "\n",
    "    'quiet storm': 'R&B',\n",
    "    'doo-wop': 'R&B',\n",
    "    'vocal harmony group': 'R&B',\n",
    "\n",
    "    'surf music': 'Rock',\n",
    "    'cowboy western': 'Country',\n",
    "    'bakersfield sound': 'Country',\n",
    "\n",
    "    'ska': 'Ska',\n",
    "    'ska punk': 'Ska',\n",
    "    'ska revival': 'Ska',\n",
    "    'traditional ska': 'Ska',\n",
    "    'german ska': 'Ska',\n",
    "    'pop': 'Pop',\n",
    "    'rock': 'Rock',\n",
    "    'hip hop': 'Hip Hop',\n",
    "    'rap': 'Hip Hop',\n",
    "    'r&b': 'R&B',\n",
    "    'edm': 'Electronic',\n",
    "    'electro': 'Electronic',\n",
    "    'house': 'Electronic',\n",
    "    'dance': 'Dance',\n",
    "    'metal': 'Metal',\n",
    "    'jazz': 'Jazz',\n",
    "    'classical': 'Classical',\n",
    "    'country': 'Country',\n",
    "    'folk': 'Folk',\n",
    "    'reggae': 'Reggae',\n",
    "    'trap': 'Trap',\n",
    "    'blues': 'Blues',\n",
    "    'indie': 'Indie',\n",
    "    'soul': 'Soul',\n",
    "    'funk': 'Funk'\n",
    "}\n",
    "# Function to assign a broad genre\n",
    "def map_to_broad_genre(genre_list, genre_map):\n",
    "    if not isinstance(genre_list, list):\n",
    "        return ['Other']\n",
    "    \n",
    "    matched = []\n",
    "    for genre in genre_list:\n",
    "        for key in genre_map:\n",
    "            if key in genre.lower():\n",
    "                matched.append(genre_map[key])\n",
    "                break  # Avoid multiple matches per input genre\n",
    "\n",
    "    return matched if matched else ['Other']\n",
    "\n",
    "\n",
    "# Parse the spotify_genre column into actual lists\n",
    "audio_features_df['parsed_genres'] = audio_features_df['spotify_genre'].dropna().apply(\n",
    "    lambda x: ast.literal_eval(x) if isinstance(x, str) else [])\n",
    "\n",
    "# Assign each row a broad genre\n",
    "audio_features_df['broad_genre'] = audio_features_df['parsed_genres'].apply(\n",
    "    lambda genres: map_to_broad_genre(genres, genre_map))\n",
    "\n",
    "# Show genre distribution\n",
    "genre_counts = audio_features_df['broad_genre'].value_counts()\n",
    "print(\"🎼 Broad genre distribution:\")\n",
    "print(genre_counts)\n",
    "\n",
    "#  Identify and analyze the \"Other\" genres\n",
    "other_rows = audio_features_df[audio_features_df['broad_genre'] == 'Other']\n",
    "other_genres = [\n",
    "    genre for sublist in other_rows['parsed_genres'] if isinstance(sublist, list) for genre in sublist\n",
    "]\n",
    "other_genre_counts = Counter(other_genres)\n",
    "\n",
    "# Save unmatched genres to CSV\n",
    "other_genre_df = pd.DataFrame(\n",
    "    other_genre_counts.items(), columns=['genre', 'count']\n",
    ").sort_values(by='count', ascending=False)\n",
    "\n",
    "other_genre_df.to_csv(\"unmatched_other_genres.csv\", index=False)\n",
    "audio_features_df.to_csv(\"broad_genres.csv\", index=False)\n",
    "\n"
   ]
  },
  {
   "cell_type": "code",
   "execution_count": 127,
   "metadata": {},
   "outputs": [
    {
     "name": "stdout",
     "output_type": "stream",
     "text": [
      "         spotify_track_id country\n",
      "0                     NaN     NaN\n",
      "1  3tvqPPpXyIgKrm4PR9HCf0     NaN\n",
      "2  1fHHq3qHU8wpRKHzhojZ4a     NaN\n",
      "3  3MjUtNVVq3C8Fn0MP3zhXa     NaN\n",
      "4  2yLa0QULdQr0qAIvVwN6B5      IE\n"
     ]
    }
   ],
   "source": [
    "import pandas as pd\n",
    "import kagglehub\n",
    "\n",
    "# Download the dataset\n",
    "path = kagglehub.dataset_download(\"asaniczka/top-spotify-songs-in-73-countries-daily-updated\")\n",
    "\n",
    "# Load the dataset\n",
    "csv_path = f\"{path}/universal_top_spotify_songs.csv\"\n",
    "spotify_df = pd.read_csv(csv_path)\n",
    "\n",
    "# Step 1: Clean column names just to be sure (remove leading/trailing spaces)\n",
    "spotify_df.columns = spotify_df.columns.str.strip()\n",
    "audio_features_df.columns = audio_features_df.columns.str.strip()\n",
    "\n",
    "# Step 2: Build mapping with one country per track\n",
    "track_country_df = spotify_df[['spotify_id', 'country']].dropna().drop_duplicates(subset='spotify_id')\n",
    "\n",
    "# Step 3: Merge correctly\n",
    "audio_features_with_country = pd.merge(\n",
    "    audio_features_df,\n",
    "    track_country_df,\n",
    "    how='left',\n",
    "    left_on='spotify_track_id',\n",
    "    right_on='spotify_id'\n",
    ")\n",
    "\n",
    "# Step 4: Clean up and check results\n",
    "audio_features_with_country.drop(columns=['spotify_id'], inplace=True, errors='ignore')\n",
    "\n",
    "# ✅ Final verification\n",
    "print(audio_features_with_country[['spotify_track_id', 'country']].head())\n",
    "\n",
    "audio_features_with_country.to_csv(\"broad_genres_country.csv\", index=False)\n"
   ]
  },
  {
   "cell_type": "code",
   "execution_count": 128,
   "metadata": {},
   "outputs": [
    {
     "name": "stdout",
     "output_type": "stream",
     "text": [
      "🌍 Number of unique countries: 43\n",
      "📄 Country codes:\n",
      "['AE', 'AT', 'AU', 'BE', 'BG', 'BR', 'CA', 'CH', 'CR', 'CZ', 'DE', 'EE', 'FR', 'GB', 'HK', 'HU', 'ID', 'IE', 'KR', 'KZ', 'LT', 'LU', 'LV', 'MY', 'NI', 'NL', 'NO', 'NZ', 'PH', 'PL', 'PT', 'RO', 'SA', 'SE', 'SG', 'SK', 'SV', 'TH', 'TW', 'UA', 'US', 'VE', 'ZA']\n"
     ]
    }
   ],
   "source": [
    "# Drop NaN values first to avoid counting them\n",
    "unique_countries = audio_features_with_country['country'].dropna().unique()\n",
    "\n",
    "# Count\n",
    "num_unique_countries = len(unique_countries)\n",
    "\n",
    "# Display results\n",
    "print(f\"🌍 Number of unique countries: {num_unique_countries}\")\n",
    "print(\"📄 Country codes:\")\n",
    "print(sorted(unique_countries))\n"
   ]
  },
  {
   "cell_type": "code",
   "execution_count": 129,
   "metadata": {},
   "outputs": [
    {
     "name": "stdout",
     "output_type": "stream",
     "text": [
      "    country               country_name\n",
      "4        IE                    Ireland\n",
      "35       US              United States\n",
      "133      NZ                New Zealand\n",
      "277      TW  Taiwan, Province of China\n",
      "307      BG                   Bulgaria\n"
     ]
    }
   ],
   "source": [
    "import pycountry\n",
    "\n",
    "# Function to convert ISO country codes to full names\n",
    "def code_to_name(code):\n",
    "    try:\n",
    "        return pycountry.countries.get(alpha_2=code).name\n",
    "    except:\n",
    "        return code  # If code is invalid or missing\n",
    "\n",
    "# Apply the function to create a new column\n",
    "audio_features_with_country['country_name'] = audio_features_with_country['country'].apply(code_to_name)\n",
    "\n",
    "# ✅ Preview result\n",
    "print(audio_features_with_country[['country', 'country_name']].dropna().head())\n"
   ]
  },
  {
   "cell_type": "code",
   "execution_count": 130,
   "metadata": {},
   "outputs": [
    {
     "name": "stdout",
     "output_type": "stream",
     "text": [
      "                                         broad_genre       top_genre\n",
      "0                                              [Pop]             Pop\n",
      "1  [Easy Listening, Pop, Easy Listening, Easy Lis...  Easy Listening\n",
      "2                                  [Rock, Pop, Rock]            Rock\n",
      "3                                    [Pop, Pop, Pop]             Pop\n",
      "4                                         [Pop, Pop]             Pop\n"
     ]
    }
   ],
   "source": [
    "from collections import Counter\n",
    "\n",
    "# Function to get the most frequent genre in a list\n",
    "def most_frequent_genre(genre_list):\n",
    "    if not isinstance(genre_list, list) or len(genre_list) == 0:\n",
    "        return None\n",
    "    counter = Counter(genre_list)\n",
    "    return counter.most_common(1)[0][0]\n",
    "\n",
    "# Apply the function to create the new column\n",
    "audio_features_with_country['top_genre'] = audio_features_with_country['broad_genre'].apply(most_frequent_genre)\n",
    "\n",
    "# Preview result\n",
    "print(audio_features_with_country[['broad_genre', 'top_genre']].head())\n"
   ]
  },
  {
   "cell_type": "code",
   "execution_count": 131,
   "metadata": {},
   "outputs": [
    {
     "name": "stdout",
     "output_type": "stream",
     "text": [
      "🎵 Found 24 unique broad genres:\n",
      "['Blues', 'Classical', 'Comedy', 'Country', 'Dance', 'Easy Listening', 'Electronic', 'Folk', 'Funk', 'Hip Hop', 'Holiday', 'Indie', 'Jazz', 'Latin', 'Metal', 'Other', 'Pop', 'R&B', 'Reggae', 'Regional Mexican', 'Rock', 'Ska', 'Soul', 'Soundtrack']\n"
     ]
    }
   ],
   "source": [
    "# Flatten all lists in 'broad_genre' into one list\n",
    "all_broad_genres = [\n",
    "    genre\n",
    "    for genre_list in audio_features_with_country['broad_genre']\n",
    "    if isinstance(genre_list, list)\n",
    "    for genre in genre_list\n",
    "]\n",
    "\n",
    "# Get unique genres\n",
    "unique_broad_genres = sorted(set(all_broad_genres))\n",
    "\n",
    "# Print results\n",
    "print(f\"🎵 Found {len(unique_broad_genres)} unique broad genres:\")\n",
    "print(unique_broad_genres)\n"
   ]
  },
  {
   "cell_type": "code",
   "execution_count": 132,
   "metadata": {},
   "outputs": [
    {
     "name": "stdout",
     "output_type": "stream",
     "text": [
      "                                         broad_genre       top_genre\n",
      "0                                              [pop]             pop\n",
      "1  [easy listening, pop, easy listening, easy lis...  easy listening\n",
      "2                                  [rock, pop, rock]            rock\n",
      "3                                    [pop, pop, pop]             pop\n",
      "4                                         [pop, pop]             pop\n"
     ]
    }
   ],
   "source": [
    "# Lowercase each genre in the list inside 'broad_genre'\n",
    "audio_features_with_country['broad_genre'] = audio_features_with_country['broad_genre'].apply(\n",
    "    lambda genres: [g.lower() for g in genres] if isinstance(genres, list) else genres\n",
    ")\n",
    "\n",
    "# Lowercase the string in 'top_genre'\n",
    "audio_features_with_country['top_genre'] = audio_features_with_country['top_genre'].apply(\n",
    "    lambda g: g.lower() if isinstance(g, str) else g\n",
    ")\n",
    "\n",
    "# Preview result\n",
    "print(audio_features_with_country[['broad_genre', 'top_genre']].head())\n",
    "audio_features_with_country.to_csv(\"broad_genres_country.csv\", index=False)\n"
   ]
  },
  {
   "cell_type": "code",
   "execution_count": 133,
   "metadata": {},
   "outputs": [
    {
     "name": "stdout",
     "output_type": "stream",
     "text": [
      " Mean audio features per country:\n",
      "  country  danceability    energy   valence       tempo  popularity\n",
      "0      AE      0.640262  0.624708  0.496965  122.196612   86.407499\n",
      "1      AR      0.698864  0.684404  0.638535  117.079778   77.952501\n",
      "2      AT      0.666465  0.659294  0.529321  127.303589   81.442627\n",
      "3      AU      0.630392  0.623838  0.512097  125.577155   87.415555\n",
      "4      BE      0.657899  0.650700  0.524811  125.329865   83.745316\n"
     ]
    }
   ],
   "source": [
    "import pandas as pd\n",
    "\n",
    "# Step 1: List the numeric audio features available\n",
    "features = ['danceability', 'energy', 'valence', 'tempo', 'popularity']\n",
    "\n",
    "# Step 2: Drop rows with missing country\n",
    "spotify_df_filtered = spotify_df.dropna(subset=['country'])\n",
    "\n",
    "# Step 3: Compute the mean of each feature per country\n",
    "country_feature_means = spotify_df_filtered.groupby('country')[features].mean().reset_index()\n",
    "\n",
    "# Step 4: Preview result\n",
    "print(\" Mean audio features per country:\")\n",
    "print(country_feature_means.head())\n"
   ]
  },
  {
   "cell_type": "code",
   "execution_count": 134,
   "metadata": {},
   "outputs": [
    {
     "name": "stdout",
     "output_type": "stream",
     "text": [
      "🌍 Number of unique countries: 72\n",
      "📄 Country codes:\n",
      "['AE', 'AR', 'AT', 'AU', 'BE', 'BG', 'BO', 'BR', 'BY', 'CA', 'CH', 'CL', 'CO', 'CR', 'CZ', 'DE', 'DK', 'DO', 'EC', 'EE', 'EG', 'ES', 'FI', 'FR', 'GB', 'GR', 'GT', 'HK', 'HN', 'HU', 'ID', 'IE', 'IL', 'IN', 'IS', 'IT', 'JP', 'KR', 'KZ', 'LT', 'LU', 'LV', 'MA', 'MX', 'MY', 'NG', 'NI', 'NL', 'NO', 'NZ', 'PA', 'PE', 'PH', 'PK', 'PL', 'PT', 'PY', 'RO', 'SA', 'SE', 'SG', 'SK', 'SV', 'TH', 'TR', 'TW', 'UA', 'US', 'UY', 'VE', 'VN', 'ZA']\n"
     ]
    }
   ],
   "source": [
    "\n",
    "# Drop NaN values first to avoid counting them\n",
    "unique_countries = country_feature_means['country'].dropna().unique()\n",
    "\n",
    "# Count\n",
    "num_unique_countries = len(unique_countries)\n",
    "\n",
    "# Display results\n",
    "print(f\"🌍 Number of unique countries: {num_unique_countries}\")\n",
    "print(\"📄 Country codes:\")\n",
    "print(sorted(unique_countries))\n"
   ]
  },
  {
   "cell_type": "code",
   "execution_count": 135,
   "metadata": {},
   "outputs": [],
   "source": [
    "# Filter rows where 'country_name' is not NaN\n",
    "country_filtered_df = audio_features_with_country.dropna(subset=['country_name'])\n",
    "\n"
   ]
  },
  {
   "cell_type": "code",
   "execution_count": 136,
   "metadata": {},
   "outputs": [],
   "source": [
    "# Step 1: Add 'avg_' prefix to the mean feature columns (except 'country')\n",
    "renamed_means = country_feature_means.rename(\n",
    "    columns={col: f'avg_{col}' for col in country_feature_means.columns if col != 'country'}\n",
    ")\n",
    "\n",
    "# Step 2: Merge on the 'country' column\n",
    "merged_df = pd.merge(\n",
    "    country_filtered_df,\n",
    "    renamed_means,\n",
    "    how='left',\n",
    "    on='country'\n",
    ")\n",
    "\n",
    "merged_df.to_csv(\"country_genre_data_viz.csv\", index=False)\n"
   ]
  }
 ],
 "metadata": {
  "kernelspec": {
   "display_name": "myenv",
   "language": "python",
   "name": "python3"
  },
  "language_info": {
   "codemirror_mode": {
    "name": "ipython",
    "version": 3
   },
   "file_extension": ".py",
   "mimetype": "text/x-python",
   "name": "python",
   "nbconvert_exporter": "python",
   "pygments_lexer": "ipython3",
   "version": "3.11.10"
  }
 },
 "nbformat": 4,
 "nbformat_minor": 2
}
