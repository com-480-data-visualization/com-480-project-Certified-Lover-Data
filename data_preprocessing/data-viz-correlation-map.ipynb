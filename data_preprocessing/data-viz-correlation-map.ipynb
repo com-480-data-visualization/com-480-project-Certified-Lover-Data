{
 "cells": [
  {
   "cell_type": "code",
   "execution_count": 1,
   "metadata": {},
   "outputs": [],
   "source": [
    "import os\n",
    "\n",
    "os.environ['KAGGLE_USERNAME'] = 'yannspf'\n",
    "os.environ['KAGGLE_KEY'] = '47e6ebd956faccc933d2bba9d554bbbe'\n",
    "try:\n",
    "    import kaggle\n",
    "except ImportError:\n",
    "    os.system('pip install kaggle')"
   ]
  },
  {
   "cell_type": "code",
   "execution_count": 2,
   "metadata": {},
   "outputs": [
    {
     "name": "stdout",
     "output_type": "stream",
     "text": [
      "Path to Billboard dataset: /Users/yann/.cache/kagglehub/datasets/thedevastator/billboard-hot-100-audio-features/versions/1\n",
      "Downloading from https://www.kaggle.com/api/v1/datasets/download/asaniczka/top-spotify-songs-in-73-countries-daily-updated?dataset_version_number=580...\n"
     ]
    },
    {
     "name": "stderr",
     "output_type": "stream",
     "text": [
      "100%|██████████| 154M/154M [00:08<00:00, 20.1MB/s] "
     ]
    },
    {
     "name": "stdout",
     "output_type": "stream",
     "text": [
      "Extracting files...\n"
     ]
    },
    {
     "name": "stderr",
     "output_type": "stream",
     "text": [
      "\n"
     ]
    },
    {
     "name": "stdout",
     "output_type": "stream",
     "text": [
      "Path to Spotify dataset: /Users/yann/.cache/kagglehub/datasets/asaniczka/top-spotify-songs-in-73-countries-daily-updated/versions/580\n"
     ]
    }
   ],
   "source": [
    "import kagglehub\n",
    "\n",
    "# Billboard Hot 100 dataset\n",
    "path1 = kagglehub.dataset_download(\"thedevastator/billboard-hot-100-audio-features\")\n",
    "print(\"Path to Billboard dataset:\", path1)\n",
    "\n",
    "# Spotify Top Songs dataset\n",
    "path2 = kagglehub.dataset_download(\"asaniczka/top-spotify-songs-in-73-countries-daily-updated\")\n",
    "print(\"Path to Spotify dataset:\", path2)"
   ]
  },
  {
   "cell_type": "code",
   "execution_count": 3,
   "metadata": {},
   "outputs": [
    {
     "name": "stdout",
     "output_type": "stream",
     "text": [
      " First 5 rows of 'Hot 100 Audio Features.csv':\n",
      "0                                                   []\n",
      "1                                          ['novelty']\n",
      "2    ['adult standards', 'brill building pop', 'eas...\n",
      "3     ['rock-and-roll', 'space age pop', 'surf music']\n",
      "4                ['dance pop', 'pop', 'post-teen pop']\n",
      "Name: spotify_genre, dtype: object\n"
     ]
    }
   ],
   "source": [
    "import pandas as pd\n",
    "\n",
    "# Load and preview Billboard datasets\n",
    "audio_features_df = pd.read_csv(os.path.join(path1, \"Hot 100 Audio Features.csv\"))\n",
    "hot_stuff_df = pd.read_csv(os.path.join(path1, \"Hot Stuff.csv\"))\n",
    "\n",
    "# Load and preview Spotify dataset\n",
    "spotify_df = pd.read_csv(os.path.join(path2, \"universal_top_spotify_songs.csv\"))\n",
    "\n",
    "# Print first 5 rows of each dataset\n",
    "print(\" First 5 rows of 'Hot 100 Audio Features.csv':\")\n",
    "print(audio_features_df['spotify_genre'].head())"
   ]
  },
  {
   "cell_type": "code",
   "execution_count": 4,
   "metadata": {},
   "outputs": [
    {
     "name": "stdout",
     "output_type": "stream",
     "text": [
      "🎵 Total unique genres: 1145\n",
      "['21st century classical', 'a cappella', 'acid house', 'acid jazz', 'acoustic blues', 'acoustic pop', 'acoustic punk', 'adult standards', 'afro house', 'afrobeat', 'afropop', 'alabama indie', 'alabama metal', 'alabama rap', 'alaska indie', 'alberta country', 'album rock', 'albuquerque indie', 'alt z', 'alt-idol', 'alternative americana', 'alternative country', 'alternative dance', 'alternative emo', 'alternative hip hop', 'alternative metal', 'alternative pop', 'alternative pop rock', 'alternative r&b', 'alternative rock', 'alternative roots rock', 'ambient folk', 'ambient psychill', 'american folk revival', 'american post-rock', 'anarcho-punk', 'anime', 'ann arbor indie', 'anthem emo', 'anthem worship', 'anti-folk', 'antiviral pop', 'appalachian folk', 'argentine rock', 'arkansas country', 'arkansas hip hop', 'art pop', 'art rock', 'asmr', 'athens indie', 'atl hip hop', 'atl trap', 'audiophile vocal', 'aussietronica', 'austindie', 'australian alternative rock', \"australian children's music\", 'australian country', 'australian dance', 'australian electropop', 'australian hip hop', 'australian house', 'australian indie', 'australian indigenous', 'australian pop', 'australian rock', 'australian singer-songwriter', 'australian talent show', 'austropop', 'avant-garde jazz', 'azonto', 'bachata', 'background music', 'bahamian pop', 'bakersfield sound', 'balkan brass', 'ballroom', 'baltimore indie', 'banda', 'banjo', 'barbadian pop', 'barbershop', 'baroque pop', 'bass house', 'bass trap', 'bass trip', 'basshall', 'bassline', 'baton rouge rap', 'battle rap', 'bboy', 'bc underground hip hop', 'beach music', 'beatlesque', 'bebop', 'bedroom pop', 'bedroom soul', 'belgian dance', 'belgian experimental', 'belgian metal', 'belgian pop', 'belgian rock', 'bhangra', 'big band', 'big beat', 'big room', 'birmingham hip hop', 'birmingham metal', 'bluegrass', 'bluegrass gospel', 'blues', 'blues rock', 'bmore', 'bolero', 'boogaloo', 'boogie-woogie', 'boom bap', 'bossa nova', 'bossa nova jazz', 'boston hip hop', 'boston rock', 'bounce', 'bow pop', 'boy band', 'brass band', 'brazilian death metal', 'brazilian jazz', 'brazilian metal', 'brazilian psychedelic', 'brazilian thrash metal', 'breakbeat', 'brill building pop', 'brit funk', 'british blues', 'british choir', 'british comedy', 'british country', 'british folk', 'british indie rock', 'british invasion', 'british jazz', 'british soul', 'britpop', 'broadway', 'broken beat', 'bronx hip hop', 'brooklyn drill', 'brooklyn indie', 'brostep', 'bubble trance', 'bubblegum dance', 'bubblegum pop', 'buffalo ny metal', 'c-pop', 'c86', 'cabaret', 'cali rap', 'calming instrumental', 'canadian blues', 'canadian ccm', 'canadian celtic', 'canadian contemporary country', 'canadian contemporary r&b', 'canadian country', 'canadian electronic', 'canadian electropop', 'canadian folk', 'canadian hip hop', 'canadian indie', 'canadian indigenous', 'canadian latin', 'canadian metal', 'canadian pop', 'canadian pop punk', 'canadian post-rock', 'canadian psychedelic', 'canadian punk', 'canadian rock', 'canadian singer-songwriter', 'canadian soundtrack', 'canadian trap', 'cancion melodica', 'candy pop', 'cantautor', 'canterbury scene', 'cantopop', 'cartoon', 'catstep', 'ccm', 'cedm', 'cello', 'celtic', 'celtic rock', 'chamber orchestra', 'chamber pop', 'chamber psych', 'champeta', 'channel pop', 'chanson', 'charlottesville indie', 'chicago blues', 'chicago drill', 'chicago hardcore', 'chicago house', 'chicago indie', 'chicago punk', 'chicago rap', 'chicago soul', 'chicano punk', 'chicano rap', \"children's music\", 'chillhop', 'chillstep', 'chillwave', 'chinese hip hop', 'chinese idol pop', 'chinese indie', 'choral', 'christian alternative rock', 'christian hip hop', 'christian indie', 'christian metal', 'christian music', 'christian pop', 'christian punk', 'christian relaxative', 'christian rock', 'christian trap', 'christmas instrumental', 'chutney', 'classic australian country', 'classic belgian pop', 'classic canadian rock', 'classic country pop', 'classic danish pop', 'classic eurovision', 'classic garage rock', 'classic girl group', 'classic italian pop', 'classic j-rock', 'classic norwegian pop', 'classic nz pop', 'classic opm', 'classic praise', 'classic psychedelic rock', 'classic rock', 'classic russian rock', 'classic schlager', 'classic soul', 'classic soundtrack', 'classic swedish pop', 'classic uk pop', 'classical', 'classical cello', 'classical organ', 'classical performance', 'classical tenor', 'clean comedy', 'colombian pop', 'comedy', 'comedy rock', 'comic', 'comic metal', 'complextro', 'compositional ambient', 'conscious hip hop', 'contemporary country', 'contemporary folk', 'contemporary gospel', 'contemporary jazz', 'contemporary post-bop', 'contemporary vocal jazz', 'cool jazz', 'corrido', 'cosmic american', 'country', 'country blues', 'country boogie', 'country dawn', 'country gospel', 'country pop', 'country rap', 'country road', 'country rock', 'cowboy western', 'cowpunk', 'croatian pop', 'crossover thrash', 'crunk', 'cuban rumba', 'cumbia', 'cyberpunk', 'dance pop', 'dance rock', 'dance-punk', 'dancehall', 'danish electronic', 'danish pop', 'dansktop', 'dark post-punk', 'dark techno', 'dark trap', 'dark wave', 'dayton indie', 'deathcore', 'deep acoustic pop', 'deep adult standards', 'deep big room', 'deep ccm', 'deep classic garage rock', 'deep contemporary country', 'deep disco', 'deep dubstep', 'deep east coast hip hop', 'deep euro house', 'deep eurodance', 'deep free jazz', 'deep freestyle', 'deep funk', 'deep funk house', 'deep groove house', 'deep house', 'deep latin christian', 'deep melodic hard rock', 'deep motown', 'deep new americana', 'deep new wave', 'deep norteno', 'deep northern soul', 'deep pop r&b', 'deep progressive trance', 'deep punk rock', 'deep ragga', 'deep regional mexican', 'deep smooth jazz', 'deep soft rock', 'deep southern soul', 'deep southern trap', 'deep talent show', 'deep underground hip hop', 'deep vocal house', 'delta blues', 'derby indie', 'desi hip hop', 'desi pop', 'destroy techno', 'detroit hip hop', 'detroit house', 'detroit trap', 'dfw rap', 'didgeridoo', 'dirty south rap', 'dirty texas rap', 'disco', 'disco house', 'disney', 'diva house', 'dixieland', 'diy emo', 'dmv rap', 'doo-wop', 'downtempo', 'drama', 'dream pop', 'dreamo', 'drill', 'drum and bass', 'dub', 'dublin indie', 'dubstep', 'duranguense', 'dusseldorf electronic', 'dutch edm', 'dutch hip hop', 'dutch house', 'dutch indie', 'dutch pop', 'dutch prog', 'dutch r&b', 'dutch rock', 'dutch urban', 'e6fi', 'early us punk', 'east coast hip hop', 'east coast reggae', 'easy listening', 'easycore', 'ebm', 'ectofolk', 'ecuadorian pop', 'edm', 'el paso indie', 'electra', 'electric blues', 'electro', 'electro house', 'electro swing', 'electroclash', 'electronic rock', 'electronic trap', 'electronica', 'electronicore', 'electropop', 'electropowerpop', 'emo', 'emo rap', 'english indie rock', 'enka', 'environmental', 'escape room', 'estonian hip hop', 'ethereal wave', 'etherpop', 'ethiopian pop', 'euro hi-nrg', 'eurodance', 'europop', 'euroska', 'exotica', 'experimental', 'experimental pop', 'experimental rock', 'fake', 'filmi', 'filter house', 'finnish edm', 'finnish punk', 'florida rap', 'focus', 'focus beats', 'folk', 'folk metal', 'folk punk', 'folk rock', 'folk-pop', 'folklore argentino', 'freak folk', 'freakbeat', 'free jazz', 'freestyle', 'french hip hop', 'french indie pop', 'french indietronica', 'french jazz', 'french movie tunes', 'french pop', 'french rock', 'french shoegaze', 'french soundtrack', 'french techno', 'french worship', 'funana', 'funeral doom', 'funk', 'funk metal', 'funk rock', 'future funk', 'future house', 'futurepop', 'g funk', 'gabba', 'gangster rap', 'garage pop', 'garage psych', 'garage punk', 'garage rock', 'gauze pop', 'gbvfi', 'german dance', 'german hard rock', 'german jazz', 'german metal', 'german pop', 'german rock', 'german shoegaze', 'german ska', 'german soundtrack', 'german techno', 'ghanaian hip hop', 'girl group', 'glam metal', 'glam rock', 'glee club', 'glitch', 'glitch hop', 'go-go', 'gospel', 'gospel r&b', 'gospel singers', 'gothenburg indie', 'gothic doom', 'gothic rock', 'grime', 'groove metal', 'grunge', 'grunge pop', 'grupera', 'gymcore', 'gypsy jazz', 'haitian gospel', 'halloween', 'hamburg electronic', 'hammond organ', 'hands up', 'happy hardcore', 'hard alternative', 'hard bop', 'hard rock', 'hardcore hip hop', 'hardcore punk', 'hardcore techno', 'harlem hip hop', 'harmonica blues', 'hauntology', 'hawaiian hip hop', 'healing', 'heartland rock', 'heavy alternative', 'hi-nrg', 'highlife', 'hip hop', 'hip house', 'hip pop', 'hollywood', 'honky tonk', 'honky-tonk piano', 'hopebeat', 'house', 'houston rap', 'hyperpop', 'hyphy', 'icelandic experimental', 'icelandic indie', 'icelandic pop', 'icelandic rock', 'idol', 'idol rock', 'indian folk', 'indie anthem-folk', 'indie cafe pop', 'indie electropop', 'indie folk', 'indie garage rock', 'indie jazz', 'indie pop', 'indie pop rap', 'indie poptimism', 'indie punk', 'indie r&b', 'indie rock', 'indie singer-songwriter', 'indie soul', 'indie surf', 'indiecoustica', 'indietronica', 'indorock', 'industrial', 'industrial metal', 'industrial rock', 'industrial techno', 'indy indie', 'instrumental funk', 'instrumental rock', 'instrumental soul', 'instrumental surf', 'irish folk', 'irish pub song', 'irish rock', 'irish singer-songwriter', 'israeli pop', 'italian disco', 'italian pop', 'italo dance', 'italo house', 'j-ambient', 'j-pixie', 'j-pop', 'j-poprock', 'jam band', 'jamgrass', 'jangle pop', 'japanese city pop', 'japanese singer-songwriter', 'jazz', 'jazz blues', 'jazz boom bap', 'jazz brass', 'jazz clarinet', 'jazz cubano', 'jazz drums', 'jazz funk', 'jazz fusion', 'jazz guitar', 'jazz orchestra', 'jazz organ', 'jazz piano', 'jazz pop', 'jazz quartet', 'jazz rap', 'jazz saxophone', 'jazz trio', 'jazz trombone', 'jazz trumpet', 'jazz vibraphone', 'jazz violin', 'jump blues', 'k-hop', 'k-pop', 'k-pop boy group', 'k-pop girl group', 'k-rap', 'kent indie', 'kentucky hip hop', 'kids dance party', 'kiwi rock', 'korean r&b', 'krautrock', 'kwaito', 'kwaito house', 'la indie', 'la pop', 'laboratorio', 'lancaster pa indie', 'latin', 'latin afrobeat', 'latin arena pop', 'latin christian', 'latin classical', 'latin hip hop', 'latin jazz', 'latin pop', 'latin rock', 'latin soundtrack', 'latin viral pop', 'lds', 'lds youth', 'leeds indie', 'levenslied', 'lgbtq+ hip hop', 'library music', 'light music', 'lilith', 'liquid funk', 'lo star', 'lo-fi', 'lo-fi beats', 'lo-fi brasileiro', 'lo-fi jazzhop', 'louisiana blues', 'lounge', 'lovers rock', 'madchester', 'maine indie', 'makossa', 'mallet', 'mambo', 'manchester hip hop', 'mande pop', 'mandopop', 'manitoba indie', 'mariachi', 'mariachi cristiano', 'massage', 'mbalax', 'medieval folk', 'medieval rock', 'melancholia', 'melbourne bounce international', 'mellow gold', 'melodic hard rock', 'melodic hardcore', 'melodic metalcore', 'melodic rap', 'melodic thrash', 'meme rap', 'memphis blues', 'memphis hip hop', 'memphis soul', 'merseybeat', 'metal', 'metalcore', 'metallic hardcore', 'metropopolis', 'mexican hip hop', 'mexican pop', 'mexican rock', 'miami bass', 'miami hip hop', 'michigan indie', 'middle earth', 'midwest americana', 'midwest emo', 'milwaukee hip hop', 'minimal dub', 'minneapolis sound', 'minnesota hip hop', 'mod revival', 'modern alternative rock', 'modern blues', 'modern blues rock', 'modern bollywood', 'modern country rock', 'modern downshift', 'modern folk rock', 'modern funk', 'modern hard rock', 'modern reggae', 'modern rock', 'modern salsa', 'modern ska punk', 'modern southern rock', 'modern uplift', 'mollywood', 'moog', 'moombahton', 'motown', 'movie tunes', 'munich indie', 'music hall', 'musica per bambini', 'musica potosina', 'naija worship', 'nashville sound', 'native american', 'native american spiritual', 'nc hip hop', 'nederpop', 'neo classical metal', 'neo mellow', 'neo r&b', 'neo soul', 'neo-classical', 'neo-progressive', 'neo-psychedelic', 'neo-singer-songwriter', 'neo-synthpop', 'neo-traditional bluegrass', 'neo-traditional country', 'neoclassical', 'neon pop punk', 'nerdcore', 'neue deutsche harte', 'neue deutsche welle', 'neurofunk', 'new age', 'new age piano', 'new americana', 'new beat', 'new england americana', 'new french touch', 'new jack smooth', 'new jack swing', 'new jersey indie', 'new jersey rap', 'new mexico music', 'new orleans blues', 'new orleans funk', 'new orleans jazz', 'new orleans rap', 'new rave', 'new romantic', 'new wave', 'new wave of thrash metal', 'new wave pop', 'new weird america', 'nightcore', 'ninja', 'nl folk', 'no wave', 'noise pop', 'noise rock', 'nordic contemporary classical', 'normal indie', 'norteno', 'norteno-sax', 'north carolina hip hop', 'northern soul', 'norwegian hip hop', 'norwegian pop', 'novelty', 'nu gaze', 'nu jazz', 'nu metal', 'nu-metalcore', 'nueva cancion', 'nursery', 'nwobhm', 'ny roots', 'nyc pop', 'nyc rap', 'nz electronic', 'nz pop', 'ohio hip hop', 'ohio indie', 'oi', 'okc indie', 'oklahoma country', 'old school dancehall', 'old school hip hop', 'old school nederhop', 'old school thrash', 'old school uk hip hop', 'old-time', 'opera', 'operatic pop', 'opm', 'orchestra', 'orchestral performance', 'orgcore', 'oslo indie', 'otacore', 'ottawa rap', 'outlaw country', 'outsider', 'oxford indie', 'p funk', 'palm desert scene', 'panamanian pop', 'parody', 'permanent wave', 'philly indie', 'philly rap', 'philly soul', 'piano blues', 'piano cover', 'piano rock', 'pinoy hip hop', 'pinoy indie', 'pinoy praise', 'pinoy rock', 'pittsburgh rap', 'pittsburgh rock', 'pixie', 'plugg', 'plunder', 'polka', 'polynesian pop', 'pop', 'pop dance', 'pop edm', 'pop emo', 'pop punk', 'pop r&b', 'pop rap', 'pop reggaeton', 'pop rock', 'pop romantico', 'pop soul', 'popping', 'portland hip hop', 'portland indie', 'post-disco', 'post-disco soul', 'post-grunge', 'post-hardcore', 'post-metal', 'post-post-hardcore', 'post-punk', 'post-rock', 'post-screamo', 'post-teen pop', 'power metal', 'power pop', 'power-pop punk', 'praise', 'prog quebec', 'progressive bluegrass', 'progressive electro house', 'progressive house', 'progressive jazz fusion', 'progressive metal', 'progressive post-hardcore', 'progressive psytrance', 'progressive rock', 'progressive trance', 'progressive uplifting trance', 'proto-techno', 'protopunk', 'psychedelic blues-rock', 'psychedelic folk', 'psychedelic folk rock', 'psychedelic rock', 'psychill', 'psychobilly', 'pub rock', 'puerto rican pop', 'punjabi pop', 'punk', 'punk blues', 'quebec indie', 'queens hip hop', 'queer country', 'quiet storm', 'r&b', 'ranchera', 'rap', 'rap conscient', 'rap kreyol', 'rap latina', 'rap metal', 'rap rock', 'rare groove', 'rawstyle', 'rebel blues', 'red dirt', 'redneck', 'reggae', 'reggae fusion', 'reggae rock', 'reggaeton', 'reggaeton colombiano', 'reggaeton flow', 'regional mexican', 'regional mexican pop', 'retro electro', 'retro soul', 'rhythm and blues', 'rhythm and boogie', 'riddim', 'rif', 'rock', 'rock en espanol', 'rock nacional', 'rock steady', 'rock-and-roll', 'rockabilly', 'romanian pop', 'romanian rock', 'romantico', 'roots americana', 'roots reggae', 'roots rock', 'sacramento indie', 'salsa', 'salsa international', 'samba', 'san diego rap', 'san marcos tx indie', 'scandinavian r&b', 'scandipop', 'schlager', 'scorecore', 'scottish indie', 'scottish new wave', 'scottish rock', 'scottish singer-songwriter', 'screamo', 'seattle indie', 'second line', 'sertanejo', 'sertanejo pop', 'sertanejo universitario', 'sevdah', 'shamanic', 'sheffield indie', 'shibuya-kei', 'shimmer pop', 'shiver pop', 'shoegaze', 'show tunes', 'singaporean pop', 'singer-songwriter', 'ska', 'ska mexicano', 'ska punk', 'ska revival', 'skate punk', 'skiffle', 'skramz', 'slap house', 'sleaze rock', 'sleep', 'slow core', 'slow game', 'small room', 'smooth jazz', 'smooth saxophone', 'soca', 'socal pop punk', 'social media pop', 'soda pop', 'soft rock', 'soul', 'soul blues', 'soul jazz', 'soundtrack', 'south african choral', 'south african gospel', 'south african jazz', 'south african pop', 'south african rock', 'southern hip hop', 'southern rock', 'southern soul', 'southern soul blues', 'space age pop', 'space rock', 'spacewave', 'spanish invasion', 'spanish new wave', 'spanish pop', 'speed metal', 'steampunk', 'steel guitar', 'stomp and holler', 'stomp pop', 'stoner metal', 'stoner rock', 'street band', 'stride', 'strut', 'sufi', 'sunshine pop', 'surf music', 'swamp blues', 'swamp pop', 'swedish alternative rock', 'swedish country', 'swedish electropop', 'swedish garage rock', 'swedish hard rock', 'swedish indie pop', 'swedish indie rock', 'swedish metalcore', 'swedish pop', 'swedish rockabilly', 'swedish singer-songwriter', 'swedish soul', 'swedish synthpop', 'swing', 'swiss rock', 'sydney indie', 'symphonic rock', 'synth punk', 'synthpop', 'taiwan indie', 'taiwan pop', 'taiwan singer-songwriter', 'talent show', 'teen pop', 'tennessee hip hop', 'texas blues', 'texas country', 'texas pop punk', 'texas punk', 'thai pop', 'theme', 'thrash metal', 'torch song', 'toronto rap', 'traditional blues', 'traditional country', 'traditional folk', 'traditional funk', 'traditional rockabilly', 'traditional scottish folk', 'traditional ska', 'traditional soul', 'trance', 'trancecore', 'transpop', 'trap', 'trap boricua', 'trap latino', 'trap queen', 'trap soul', 'traprun', 'tribal house', 'trip hop', 'tropical', 'tropical house', 'trova', 'truck-driving country', 'turbo folk', 'turntablism', 'twee pop', 'uk alternative hip hop', 'uk alternative pop', 'uk americana', 'uk contemporary jazz', 'uk contemporary r&b', 'uk dance', 'uk dnb', 'uk doom metal', 'uk funky', 'uk garage', 'uk hip hop', 'uk metalcore', 'uk pop', 'uk pop punk', 'uk post-punk', 'uk reggae', 'unblack metal', 'underground hip hop', 'underground power pop', 'underground rap', 'uplifting trance', 'uptempo hardcore', 'urban contemporary', 'utah indie', 'vallenato', 'vancouver punk', 'vapor pop', 'vapor soul', 'vapor trap', 'vapor twitch', 'vintage dutch pop', 'vintage french electronic', 'vintage gospel', 'vintage hollywood', 'vintage italian soundtrack', 'vintage radio show', 'vintage schlager', 'vintage swoon', 'viral pop', 'viral rap', 'viral trap', 'virgin islands reggae', 'vocal harmony group', 'vocal house', 'vocal jazz', 'vocal trance', 'vogue', 'volksmusik', 'washington indie', 'welsh metal', 'welsh rock', 'west coast rap', 'west coast reggae', 'west coast trap', 'western swing', 'wind ensemble', 'wind quintet', 'world', 'world worship', 'worship', 'wrestling', 'wu fam', 'xhosa', 'yacht rock', 'ye ye', 'yodeling', 'yugoslav rock', 'zolo', 'zydeco']\n"
     ]
    }
   ],
   "source": [
    "import ast\n",
    "\n",
    "# Drop NaN values to avoid errors\n",
    "genre_series = audio_features_df['spotify_genre'].dropna()\n",
    "\n",
    "# Parse genre strings to lists or empty list if NaN\n",
    "audio_features_df['parsed_genres'] = audio_features_df['spotify_genre'].apply(\n",
    "    lambda x: ast.literal_eval(x) if isinstance(x, str) else []\n",
    ")\n",
    "\n",
    "# Drop rows where the parsed list is empty\n",
    "audio_features_df = audio_features_df[audio_features_df['parsed_genres'].apply(lambda x: isinstance(x, list) and len(x) > 0)]\n",
    "\n",
    "# (Optional) Reset index\n",
    "audio_features_df.reset_index(drop=True, inplace=True)\n",
    "\n",
    "# Convert stringified lists to real Python lists using ast.literal_eval\n",
    "parsed_genres = genre_series.apply(lambda x: ast.literal_eval(x) if isinstance(x, str) else [])\n",
    "\n",
    "# Flatten all lists into one\n",
    "all_genres = [genre for sublist in parsed_genres for genre in sublist]\n",
    "\n",
    "# Get unique genres\n",
    "unique_genres = sorted(set(all_genres))\n",
    "\n",
    "# Display results\n",
    "print(f\"🎵 Total unique genres: {len(unique_genres)}\")\n",
    "print(unique_genres)\n"
   ]
  },
  {
   "cell_type": "code",
   "execution_count": 6,
   "metadata": {},
   "outputs": [
    {
     "name": "stdout",
     "output_type": "stream",
     "text": [
      "🎼 Broad genre distribution:\n",
      "broad_genre\n",
      "[Pop]                                                           807\n",
      "[Pop, Pop]                                                      737\n",
      "[Pop, Pop, Pop]                                                 557\n",
      "[Rock]                                                          404\n",
      "[Country, Country, Country, Rock]                               399\n",
      "                                                               ... \n",
      "[Rock, Pop, Rock, Pop, Pop, Rock]                                 1\n",
      "[Pop, Electronic, Electronic, Pop, Electronic, Latin]             1\n",
      "[Jazz, Jazz, Funk, Jazz, Jazz, Jazz, Jazz, Jazz, Soul, Jazz]      1\n",
      "[Folk, Rock, Rock, Folk]                                          1\n",
      "[Rock, Pop, Pop, Rock, Pop, Rock]                                 1\n",
      "Name: count, Length: 1541, dtype: int64\n"
     ]
    }
   ],
   "source": [
    "from collections import Counter\n",
    "\n",
    "genre_map = {\n",
    "    'novelty': 'Pop',\n",
    "    'idol': 'Pop',\n",
    "    'boy band': 'Pop',\n",
    "    'broadway': 'Pop',\n",
    "    'classic girl group': 'Pop',\n",
    "    'calming instrumental': 'Easy Listening',\n",
    "    'neo mellow': 'Pop',\n",
    "    'urban contemporary': 'R&B',\n",
    "\n",
    "    'motown': 'R&B',\n",
    "    'deep motown': 'R&B',\n",
    "    'rare groove': 'R&B',\n",
    "    'new jack swing': 'R&B',\n",
    "\n",
    "    'comic': 'Comedy',\n",
    "    'comedy': 'Comedy',\n",
    "    'parody': 'Comedy',\n",
    "\n",
    "    'hollywood': 'Soundtrack',\n",
    "    'movie tunes': 'Soundtrack',\n",
    "    'show tunes': 'Soundtrack',\n",
    "    'christmas instrumental': 'Holiday',\n",
    "\n",
    "    'nashville sound': 'Country',\n",
    "    'norteno': 'Regional Mexican',\n",
    "    'beach music': 'Soul',\n",
    "\n",
    "    'latin': 'Latin',\n",
    "    'tropical': 'Latin',\n",
    "    'brooklyn drill': 'Hip Hop',\n",
    "\n",
    "    'merseybeat': 'Rock',\n",
    "    'british invasion': 'Rock',\n",
    "    'adult standards': 'Easy Listening',\n",
    "    'easy listening': 'Easy Listening',\n",
    "    'deep adult standards': 'Easy Listening',\n",
    "    'mellow gold': 'Easy Listening',\n",
    "    'lounge': 'Easy Listening',\n",
    "    \n",
    "    'freestyle': 'Dance',\n",
    "    'disco': 'Dance',\n",
    "    'hi-nrg': 'Dance',\n",
    "    'miami bass': 'Dance',\n",
    "\n",
    "    'quiet storm': 'R&B',\n",
    "    'doo-wop': 'R&B',\n",
    "    'vocal harmony group': 'R&B',\n",
    "\n",
    "    'surf music': 'Rock',\n",
    "    'cowboy western': 'Country',\n",
    "    'bakersfield sound': 'Country',\n",
    "\n",
    "    'ska': 'Ska',\n",
    "    'ska punk': 'Ska',\n",
    "    'ska revival': 'Ska',\n",
    "    'traditional ska': 'Ska',\n",
    "    'german ska': 'Ska',\n",
    "    'pop': 'Pop',\n",
    "    'rock': 'Rock',\n",
    "    'hip hop': 'Hip Hop',\n",
    "    'rap': 'Hip Hop',\n",
    "    'r&b': 'R&B',\n",
    "    'edm': 'Electronic',\n",
    "    'electro': 'Electronic',\n",
    "    'house': 'Electronic',\n",
    "    'dance': 'Dance',\n",
    "    'metal': 'Metal',\n",
    "    'jazz': 'Jazz',\n",
    "    'classical': 'Classical',\n",
    "    'country': 'Country',\n",
    "    'folk': 'Folk',\n",
    "    'reggae': 'Reggae',\n",
    "    'trap': 'Trap',\n",
    "    'blues': 'Blues',\n",
    "    'indie': 'Indie',\n",
    "    'soul': 'Soul',\n",
    "    'funk': 'Funk'\n",
    "}\n",
    "# Function to assign a broad genre\n",
    "def map_to_broad_genre(genre_list, genre_map):\n",
    "    if not isinstance(genre_list, list):\n",
    "        return ['Other']\n",
    "    \n",
    "    matched = []\n",
    "    for genre in genre_list:\n",
    "        for key in genre_map:\n",
    "            if key in genre.lower():\n",
    "                matched.append(genre_map[key])\n",
    "                break  # Avoid multiple matches per input genre\n",
    "\n",
    "    return matched if matched else ['Other']\n",
    "\n",
    "\n",
    "# Parse the spotify_genre column into actual lists\n",
    "audio_features_df['parsed_genres'] = audio_features_df['spotify_genre'].dropna().apply(\n",
    "    lambda x: ast.literal_eval(x) if isinstance(x, str) else [])\n",
    "\n",
    "# Assign each row a broad genre\n",
    "audio_features_df['broad_genre'] = audio_features_df['parsed_genres'].apply(\n",
    "    lambda genres: map_to_broad_genre(genres, genre_map))\n",
    "\n",
    "# Show genre distribution\n",
    "genre_counts = audio_features_df['broad_genre'].value_counts()\n",
    "print(\"🎼 Broad genre distribution:\")\n",
    "print(genre_counts)\n",
    "\n",
    "#  Identify and analyze the \"Other\" genres\n",
    "other_rows = audio_features_df[audio_features_df['broad_genre'] == 'Other']\n",
    "other_genres = [\n",
    "    genre for sublist in other_rows['parsed_genres'] if isinstance(sublist, list) for genre in sublist\n",
    "]\n",
    "other_genre_counts = Counter(other_genres)\n",
    "\n",
    "# Save unmatched genres to CSV\n",
    "other_genre_df = pd.DataFrame(\n",
    "    other_genre_counts.items(), columns=['genre', 'count']\n",
    ").sort_values(by='count', ascending=False)\n",
    "\n",
    "other_genre_df.to_csv(\"unmatched_other_genres.csv\", index=False)\n",
    "audio_features_df.to_csv(\"broad_genres.csv\", index=False)\n",
    "\n"
   ]
  },
  {
   "cell_type": "code",
   "execution_count": 8,
   "metadata": {},
   "outputs": [
    {
     "name": "stdout",
     "output_type": "stream",
     "text": [
      "🎵 Found 24 unique broad genres:\n",
      "['Blues', 'Classical', 'Comedy', 'Country', 'Dance', 'Easy Listening', 'Electronic', 'Folk', 'Funk', 'Hip Hop', 'Holiday', 'Indie', 'Jazz', 'Latin', 'Metal', 'Other', 'Pop', 'R&B', 'Reggae', 'Regional Mexican', 'Rock', 'Ska', 'Soul', 'Soundtrack']\n"
     ]
    }
   ],
   "source": [
    "# Flatten all lists in 'broad_genre' into one list\n",
    "all_broad_genres = [\n",
    "    genre\n",
    "    for genre_list in audio_features_df['broad_genre']\n",
    "    if isinstance(genre_list, list)\n",
    "    for genre in genre_list\n",
    "]\n",
    "\n",
    "# Get unique genres\n",
    "unique_broad_genres = sorted(set(all_broad_genres))\n",
    "\n",
    "# Print results\n",
    "print(f\"🎵 Found {len(unique_broad_genres)} unique broad genres:\")\n",
    "print(unique_broad_genres)"
   ]
  },
  {
   "cell_type": "code",
   "execution_count": 11,
   "metadata": {},
   "outputs": [],
   "source": [
    "# Normalize all genres in the 'broad_genre' list to lowercase\n",
    "audio_features_df['broad_genre'] = audio_features_df['broad_genre'].apply(\n",
    "    lambda genres: [g.lower() for g in genres] if isinstance(genres, list) else genres\n",
    ")"
   ]
  },
  {
   "cell_type": "code",
   "execution_count": 12,
   "metadata": {},
   "outputs": [
    {
     "name": "stdout",
     "output_type": "stream",
     "text": [
      "🎧 Example rows for 'pop' genre:\n",
      "   index                                             SongID       Performer  \\\n",
      "0      1  ¿Dònde Està Santa Claus? (Where Is Santa Claus...      Augie Rios   \n",
      "1      2             ......And Roses And RosesAndy Williams   Andy Williams   \n",
      "2      3           ...And Then There Were DrumsSandy Nelson    Sandy Nelson   \n",
      "3      4                ...Baby One More TimeBritney Spears  Britney Spears   \n",
      "4      5                       ...Ready For It?Taylor Swift    Taylor Swift   \n",
      "\n",
      "                                               Song  \\\n",
      "0  ¿Dònde Està Santa Claus? (Where Is Santa Claus?)   \n",
      "1                         ......And Roses And Roses   \n",
      "2                      ...And Then There Were Drums   \n",
      "3                             ...Baby One More Time   \n",
      "4                                  ...Ready For It?   \n",
      "\n",
      "                                       spotify_genre        spotify_track_id  \\\n",
      "0                                        ['novelty']                     NaN   \n",
      "1  ['adult standards', 'brill building pop', 'eas...  3tvqPPpXyIgKrm4PR9HCf0   \n",
      "2   ['rock-and-roll', 'space age pop', 'surf music']  1fHHq3qHU8wpRKHzhojZ4a   \n",
      "3              ['dance pop', 'pop', 'post-teen pop']  3MjUtNVVq3C8Fn0MP3zhXa   \n",
      "4                           ['pop', 'post-teen pop']  2yLa0QULdQr0qAIvVwN6B5   \n",
      "\n",
      "                           spotify_track_preview_url  \\\n",
      "0                                                NaN   \n",
      "1  https://p.scdn.co/mp3-preview/cef4883cfd1e0e53...   \n",
      "2                                                NaN   \n",
      "3  https://p.scdn.co/mp3-preview/da2134a161f1cb34...   \n",
      "4                                                NaN   \n",
      "\n",
      "   spotify_track_duration_ms spotify_track_explicit  \\\n",
      "0                        NaN                    NaN   \n",
      "1                   166106.0                  False   \n",
      "2                   172066.0                  False   \n",
      "3                   211066.0                  False   \n",
      "4                   208186.0                  False   \n",
      "\n",
      "                                 spotify_track_album  ...  speechiness  \\\n",
      "0                                                NaN  ...          NaN   \n",
      "1                        The Essential Andy Williams  ...       0.0315   \n",
      "2                              Compelling Percussion  ...       0.0361   \n",
      "3     ...Baby One More Time (Digital Deluxe Version)  ...       0.0307   \n",
      "4  {'album_type': 'album', 'artists': [{'external...  ...       0.1360   \n",
      "\n",
      "   acousticness  instrumentalness  liveness  valence    tempo  time_signature  \\\n",
      "0           NaN               NaN       NaN      NaN      NaN             NaN   \n",
      "1       0.91100          0.000267     0.112    0.150   83.969             4.0   \n",
      "2       0.00256          0.745000     0.145    0.801  121.962             4.0   \n",
      "3       0.20200          0.000131     0.443    0.907   92.960             4.0   \n",
      "4       0.05270          0.000000     0.197    0.417  160.015             4.0   \n",
      "\n",
      "   spotify_track_popularity  \\\n",
      "0                       NaN   \n",
      "1                      38.0   \n",
      "2                      11.0   \n",
      "3                      77.0   \n",
      "4                      73.0   \n",
      "\n",
      "                                       parsed_genres  \\\n",
      "0                                          [novelty]   \n",
      "1  [adult standards, brill building pop, easy lis...   \n",
      "2         [rock-and-roll, space age pop, surf music]   \n",
      "3                    [dance pop, pop, post-teen pop]   \n",
      "4                               [pop, post-teen pop]   \n",
      "\n",
      "                                         broad_genre  \n",
      "0                                              [pop]  \n",
      "1  [easy listening, pop, easy listening, easy lis...  \n",
      "2                                  [rock, pop, rock]  \n",
      "3                                    [pop, pop, pop]  \n",
      "4                                         [pop, pop]  \n",
      "\n",
      "[5 rows x 25 columns]\n"
     ]
    }
   ],
   "source": [
    "# Define genres (in lowercase)\n",
    "target_genres = [\n",
    "    'blues', 'classical', 'comedy', 'country', 'dance', 'easy listening',\n",
    "    'electronic', 'folk', 'funk', 'hip hop', 'holiday', 'indie', 'jazz',\n",
    "    'latin', 'metal', 'other', 'pop', 'r&b', 'reggae', 'regional mexican',\n",
    "    'rock', 'ska', 'soul', 'soundtrack'\n",
    "]\n",
    "\n",
    "# Create a dict to store each genre-specific DataFrame\n",
    "genre_dfs = {}\n",
    "\n",
    "for genre in target_genres:\n",
    "    genre_dfs[genre] = audio_features_df[\n",
    "        audio_features_df['broad_genre'].apply(lambda g: genre in g if isinstance(g, list) else False)\n",
    "    ]\n",
    "\n",
    "# ✅ Example: show a few rows from the 'pop' genre\n",
    "print(\"🎧 Example rows for 'pop' genre:\")\n",
    "print(genre_dfs['pop'].head())\n",
    "\n"
   ]
  },
  {
   "cell_type": "code",
   "execution_count": 13,
   "metadata": {},
   "outputs": [
    {
     "name": "stdout",
     "output_type": "stream",
     "text": [
      "✅ All genre DataFrames saved in 'broad_genre_csvs' folder.\n"
     ]
    }
   ],
   "source": [
    "import os\n",
    "\n",
    "# Step 1: Define output folder\n",
    "output_folder = \"broad_genre_csvs\"\n",
    "os.makedirs(output_folder, exist_ok=True)  # create folder if it doesn't exist\n",
    "\n",
    "# Step 2: Save each genre's DataFrame to a CSV\n",
    "for genre, df in genre_dfs.items():\n",
    "    filename = f\"{genre.replace(' ', '_')}_songs.csv\"  # replace spaces for clean filenames\n",
    "    filepath = os.path.join(output_folder, filename)\n",
    "    df.to_csv(filepath, index=False)\n",
    "\n",
    "print(f\"✅ All genre DataFrames saved in '{output_folder}' folder.\")\n"
   ]
  },
  {
   "cell_type": "code",
   "execution_count": 16,
   "metadata": {},
   "outputs": [
    {
     "name": "stdout",
     "output_type": "stream",
     "text": [
      "🎯 Correlation matrix for 'pop':\n",
      "                          danceability    energy   valence     tempo  \\\n",
      "danceability                  1.000000  0.222903  0.337454 -0.134474   \n",
      "energy                        0.222903  1.000000  0.357882  0.152557   \n",
      "valence                       0.337454  0.357882  1.000000  0.067511   \n",
      "tempo                        -0.134474  0.152557  0.067511  1.000000   \n",
      "spotify_track_popularity      0.241946  0.168633 -0.235468  0.012445   \n",
      "\n",
      "                          spotify_track_popularity  \n",
      "danceability                              0.241946  \n",
      "energy                                    0.168633  \n",
      "valence                                  -0.235468  \n",
      "tempo                                     0.012445  \n",
      "spotify_track_popularity                  1.000000  \n"
     ]
    }
   ],
   "source": [
    "# Updated list of features\n",
    "features_to_correlate = ['danceability', 'energy', 'valence', 'tempo', 'spotify_track_popularity']\n",
    "\n",
    "# Dictionary to store correlation matrices\n",
    "genre_correlations = {}\n",
    "\n",
    "# Compute correlation matrix for each genre\n",
    "for genre, df in genre_dfs.items():\n",
    "    if all(feature in df.columns for feature in features_to_correlate):\n",
    "        corr_matrix = df[features_to_correlate].corr()\n",
    "        genre_correlations[genre] = corr_matrix\n",
    "\n",
    "# ✅ Example: show the correlation matrix for 'pop'\n",
    "print(\"🎯 Correlation matrix for 'pop':\")\n",
    "print(genre_correlations['pop'])\n"
   ]
  },
  {
   "cell_type": "code",
   "execution_count": 17,
   "metadata": {},
   "outputs": [
    {
     "name": "stdout",
     "output_type": "stream",
     "text": [
      "✅ All correlation matrices saved in 'correlation_matrix' folder.\n"
     ]
    }
   ],
   "source": [
    "import os\n",
    "\n",
    "# Step 1: Create output folder\n",
    "output_folder = \"correlation_matrix\"\n",
    "os.makedirs(output_folder, exist_ok=True)\n",
    "\n",
    "# Step 2: Save each correlation matrix\n",
    "for genre, corr_matrix in genre_correlations.items():\n",
    "    filename = f\"{genre.replace(' ', '_')}_correlation.csv\"\n",
    "    filepath = os.path.join(output_folder, filename)\n",
    "    corr_matrix.to_csv(filepath)\n",
    "\n",
    "print(f\"✅ All correlation matrices saved in '{output_folder}' folder.\")\n"
   ]
  },
  {
   "cell_type": "code",
   "execution_count": 18,
   "metadata": {},
   "outputs": [
    {
     "name": "stdout",
     "output_type": "stream",
     "text": [
      "📂 Correlation matrix files saved:\n",
      "- blues_correlation.csv\n",
      "- classical_correlation.csv\n",
      "- comedy_correlation.csv\n",
      "- country_correlation.csv\n",
      "- dance_correlation.csv\n",
      "- easy_listening_correlation.csv\n",
      "- electronic_correlation.csv\n",
      "- folk_correlation.csv\n",
      "- funk_correlation.csv\n",
      "- hip_hop_correlation.csv\n",
      "- holiday_correlation.csv\n",
      "- indie_correlation.csv\n",
      "- jazz_correlation.csv\n",
      "- latin_correlation.csv\n",
      "- metal_correlation.csv\n",
      "- other_correlation.csv\n",
      "- pop_correlation.csv\n",
      "- r&b_correlation.csv\n",
      "- reggae_correlation.csv\n",
      "- regional_mexican_correlation.csv\n",
      "- rock_correlation.csv\n",
      "- ska_correlation.csv\n",
      "- soul_correlation.csv\n",
      "- soundtrack_correlation.csv\n"
     ]
    }
   ],
   "source": [
    "# List and print all files in the correlation_matrix folder\n",
    "saved_files = sorted(os.listdir(\"correlation_matrix\"))\n",
    "\n",
    "print(\"📂 Correlation matrix files saved:\")\n",
    "for filename in saved_files:\n",
    "    print(f\"- {filename}\")"
   ]
  },
  {
   "cell_type": "code",
   "execution_count": 22,
   "metadata": {},
   "outputs": [
    {
     "name": "stdout",
     "output_type": "stream",
     "text": [
      "📊 Summary of pairwise correlations by genre:\n",
      "  broad_genre  danceability_energy_corr  danceability_valence_corr  \\\n",
      "0       blues                  0.080681                   0.508223   \n",
      "1   classical                  0.686095                   0.686683   \n",
      "2      comedy                 -0.007757                   0.530567   \n",
      "3     country                  0.191059                   0.477868   \n",
      "4       dance                  0.352470                   0.572553   \n",
      "\n",
      "   danceability_tempo_corr  danceability_spotify_track_popularity_corr  \\\n",
      "0                -0.183001                                    0.086516   \n",
      "1                -0.091949                                   -0.083237   \n",
      "2                -0.195761                                    0.113142   \n",
      "3                -0.185238                                    0.100877   \n",
      "4                -0.199731                                    0.097867   \n",
      "\n",
      "   energy_valence_corr  energy_tempo_corr  \\\n",
      "0             0.447260           0.174577   \n",
      "1             0.763972          -0.058133   \n",
      "2             0.138945           0.020855   \n",
      "3             0.430842           0.233002   \n",
      "4             0.484767           0.106622   \n",
      "\n",
      "   energy_spotify_track_popularity_corr  valence_tempo_corr  \\\n",
      "0                             -0.030764            0.152238   \n",
      "1                             -0.044380            0.136445   \n",
      "2                              0.325303            0.143702   \n",
      "3                              0.345033            0.106067   \n",
      "4                              0.061384            0.042280   \n",
      "\n",
      "   valence_spotify_track_popularity_corr  tempo_spotify_track_popularity_corr  \n",
      "0                              -0.090675                            -0.021351  \n",
      "1                              -0.067521                             0.009080  \n",
      "2                              -0.065922                             0.062488  \n",
      "3                              -0.019554                             0.077340  \n",
      "4                              -0.044166                            -0.038010  \n"
     ]
    }
   ],
   "source": [
    "import pandas as pd\n",
    "\n",
    "# Initialize list to store rows\n",
    "correlation_summary = []\n",
    "\n",
    "# For each genre, extract specific correlation values\n",
    "for genre, corr in genre_correlations.items():\n",
    "    row = {'broad_genre': genre}\n",
    "    # Loop through all pairs (upper triangle only)\n",
    "    for i, col1 in enumerate(corr.columns):\n",
    "        for j, col2 in enumerate(corr.columns):\n",
    "            if i < j:  # to avoid duplicates and self-correlation\n",
    "                col_name = f\"{col1}_{col2}_corr\"\n",
    "                row[col_name] = corr.loc[col1, col2]\n",
    "    correlation_summary.append(row)\n",
    "\n",
    "# Convert to DataFrame\n",
    "correlation_df = pd.DataFrame(correlation_summary)\n",
    "\n",
    "# Optional: Sort by genre name\n",
    "correlation_df.sort_values(by='broad_genre', inplace=True)\n",
    "\n",
    "# Show preview\n",
    "print(\"📊 Summary of pairwise correlations by genre:\")\n",
    "print(correlation_df.head())\n"
   ]
  },
  {
   "cell_type": "code",
   "execution_count": 24,
   "metadata": {},
   "outputs": [
    {
     "name": "stdout",
     "output_type": "stream",
     "text": [
      "✅ Renamed columns in correlation_df:\n",
      "['broad_genre', 'danceability_energy_corr', 'danceability_valence_corr', 'danceability_tempo_corr', 'danceability_popularity_corr', 'energy_valence_corr', 'energy_tempo_corr', 'energy_popularity_corr', 'valence_tempo_corr', 'valence_popularity_corr', 'tempo_popularity_corr', 'avg_danceability', 'avg_energy', 'avg_valence', 'avg_tempo', 'avg_popularity']\n"
     ]
    }
   ],
   "source": [
    "# Rename all column names in correlation_df that contain 'spotify_track_popularity'\n",
    "correlation_df.columns = [\n",
    "    col.replace('spotify_track_popularity', 'popularity') for col in correlation_df.columns\n",
    "]\n",
    "\n",
    "# Preview to confirm\n",
    "print(\"✅ Renamed columns in correlation_df:\")\n",
    "print(correlation_df.columns.tolist())\n"
   ]
  },
  {
   "cell_type": "code",
   "execution_count": 25,
   "metadata": {},
   "outputs": [],
   "source": [
    "# List of features to compute the mean for\n",
    "features_to_average = ['danceability', 'energy', 'valence', 'tempo', 'spotify_track_popularity']\n",
    "\n",
    "# Create a DataFrame to hold mean values per genre\n",
    "mean_values = []\n",
    "\n",
    "for genre, df in genre_dfs.items():\n",
    "    means = {'broad_genre': genre}\n",
    "    for feature in features_to_average:\n",
    "        if feature in df.columns:\n",
    "            means[f'avg_{feature}'] = df[feature].mean()\n",
    "    mean_values.append(means)\n",
    "\n",
    "# Convert to DataFrame\n",
    "mean_df = pd.DataFrame(mean_values)\n",
    "\n",
    "# ✅ Merge the means into the correlation summary\n",
    "correlation_df = pd.merge(correlation_df, mean_df, on='broad_genre', how='left')\n",
    "\n",
    "correlation_df.sort_values(by='broad_genre', inplace=True)\n",
    "correlation_df.to_csv(\"broad_genre_correlation_summary.csv\", index=False)\n",
    "\n"
   ]
  }
 ],
 "metadata": {
  "kernelspec": {
   "display_name": "myenv",
   "language": "python",
   "name": "python3"
  },
  "language_info": {
   "codemirror_mode": {
    "name": "ipython",
    "version": 3
   },
   "file_extension": ".py",
   "mimetype": "text/x-python",
   "name": "python",
   "nbconvert_exporter": "python",
   "pygments_lexer": "ipython3",
   "version": "3.11.10"
  }
 },
 "nbformat": 4,
 "nbformat_minor": 2
}
